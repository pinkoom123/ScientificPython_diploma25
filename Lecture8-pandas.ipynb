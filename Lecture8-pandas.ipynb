{
 "cells": [
  {
   "cell_type": "markdown",
   "metadata": {},
   "source": [
    "### **Pandas**\n",
    "\n",
    "Pandas is an Python package that is widely used for data data analysis and machine learning."
   ]
  },
  {
   "cell_type": "code",
   "execution_count": 2,
   "metadata": {},
   "outputs": [],
   "source": [
    "import pandas as pd"
   ]
  },
  {
   "cell_type": "markdown",
   "metadata": {},
   "source": [
    "First data type we will try to use is one dimensional arrays (\"columns\") called `Series`:"
   ]
  },
  {
   "cell_type": "code",
   "execution_count": 3,
   "metadata": {},
   "outputs": [
    {
     "name": "stdout",
     "output_type": "stream",
     "text": [
      "0     2\n",
      "1     8\n",
      "2    99\n",
      "3     1\n",
      "dtype: int64\n"
     ]
    }
   ],
   "source": [
    "mylist = [2, 8, 99,1]\n",
    "\n",
    "myvar = pd.Series(mylist)\n",
    "\n",
    "print(myvar)"
   ]
  },
  {
   "cell_type": "markdown",
   "metadata": {},
   "source": [
    "By default, the data gets labeled by indexes starting from 0, otherwise you can specify the labels:"
   ]
  },
  {
   "cell_type": "code",
   "execution_count": 4,
   "metadata": {},
   "outputs": [
    {
     "name": "stdout",
     "output_type": "stream",
     "text": [
      "a     2\n",
      "b     8\n",
      "c    99\n",
      "d     1\n",
      "dtype: int64\n"
     ]
    }
   ],
   "source": [
    "#print(myvar[0])\n",
    "myvar2 = pd.Series(mylist, index = [\"a\", \"b\", \"c\",\"d\"])\n",
    "print(myvar2)\n",
    "#print(myvar2[0]) #but you can still use the index to access\n",
    "#print(myvar2[\"a\"])"
   ]
  },
  {
   "cell_type": "markdown",
   "metadata": {},
   "source": [
    "You can also create \"series\" from a dictionary:"
   ]
  },
  {
   "cell_type": "code",
   "execution_count": 5,
   "metadata": {},
   "outputs": [
    {
     "name": "stdout",
     "output_type": "stream",
     "text": [
      "key1    888\n",
      "key3    777\n",
      "dtype: int64\n"
     ]
    }
   ],
   "source": [
    "mydict = {\"key1\": 888, \"key2\": 123, \"key3\": 777}\n",
    "\n",
    "myvar = pd.Series(mydict, index = [\"key1\",\"key3\"]) #index is optional\n",
    "\n",
    "print(myvar)"
   ]
  },
  {
   "cell_type": "markdown",
   "metadata": {},
   "source": [
    "To work with tables rather than vectors, we need to use `DataFrame`:"
   ]
  },
  {
   "cell_type": "code",
   "execution_count": 6,
   "metadata": {},
   "outputs": [
    {
     "name": "stdout",
     "output_type": "stream",
     "text": [
      "    cats  age\n",
      "0   grey    3\n",
      "1  black    7\n",
      "2  white    2\n"
     ]
    }
   ],
   "source": [
    "mydataset = {\n",
    "  'cats': [\"grey\", \"black\", \"white\"],\n",
    "  'age': [3, 7, 2]\n",
    "}\n",
    "\n",
    "myvar = pd.DataFrame(mydataset)\n",
    "\n",
    "print(myvar) "
   ]
  },
  {
   "cell_type": "markdown",
   "metadata": {},
   "source": [
    "To access the rows, use `loc`:"
   ]
  },
  {
   "cell_type": "code",
   "execution_count": 7,
   "metadata": {},
   "outputs": [
    {
     "data": {
      "text/plain": [
       "0     grey\n",
       "1    black\n",
       "2    white\n",
       "Name: cats, dtype: object"
      ]
     },
     "execution_count": 7,
     "metadata": {},
     "output_type": "execute_result"
    }
   ],
   "source": [
    "myvar[\"cats\"]"
   ]
  },
  {
   "cell_type": "code",
   "execution_count": 8,
   "metadata": {},
   "outputs": [
    {
     "data": {
      "text/plain": [
       "cats    white\n",
       "age         2\n",
       "Name: 2, dtype: object"
      ]
     },
     "execution_count": 8,
     "metadata": {},
     "output_type": "execute_result"
    }
   ],
   "source": [
    "myvar.loc[2] #a named index will work as well"
   ]
  },
  {
   "cell_type": "code",
   "execution_count": 9,
   "metadata": {},
   "outputs": [
    {
     "data": {
      "text/plain": [
       "pandas.core.series.Series"
      ]
     },
     "execution_count": 9,
     "metadata": {},
     "output_type": "execute_result"
    }
   ],
   "source": [
    "type(myvar.loc[2])"
   ]
  },
  {
   "cell_type": "markdown",
   "metadata": {},
   "source": [
    "How to load files:"
   ]
  },
  {
   "cell_type": "code",
   "execution_count": 10,
   "metadata": {},
   "outputs": [
    {
     "name": "stdout",
     "output_type": "stream",
     "text": [
      "        course1  course2  course3  course4\n",
      "name                                      \n",
      "Marie        24       18       30       20\n",
      "John         18       27       29       27\n",
      "Kati         21       24       28       27\n",
      "Olaf         30       30       29       30\n",
      "Mark         24       25       27       21\n",
      "Olga         23       26       30       30\n",
      "Jean         18       28       26       24\n",
      "Alex         19       20       27       27\n",
      "Pier         24       29       23       26\n",
      "Bennet       24       25       26       30\n",
      "Luis         20       20       18       18\n"
     ]
    }
   ],
   "source": [
    "df = pd.read_csv('data/example.csv', index_col=0)\n",
    "\n",
    "print(df) "
   ]
  },
  {
   "cell_type": "markdown",
   "metadata": {},
   "source": [
    "You can control how many rows it prints:"
   ]
  },
  {
   "cell_type": "code",
   "execution_count": 11,
   "metadata": {},
   "outputs": [
    {
     "name": "stdout",
     "output_type": "stream",
     "text": [
      "        course1  course2  course3  course4\n",
      "name                                      \n",
      "Marie        24       18       30       20\n",
      "John         18       27       29       27\n",
      "Kati         21       24       28       27\n",
      "Olaf         30       30       29       30\n",
      "Mark         24       25       27       21\n",
      "Olga         23       26       30       30\n",
      "Jean         18       28       26       24\n",
      "Alex         19       20       27       27\n",
      "Pier         24       29       23       26\n",
      "Bennet       24       25       26       30\n",
      "Luis         20       20       18       18\n"
     ]
    }
   ],
   "source": [
    "pd.options.display.max_rows = 200\n",
    "print(df)"
   ]
  },
  {
   "cell_type": "markdown",
   "metadata": {},
   "source": [
    "Type `pd.read` and press `tab` to see what else it can read."
   ]
  },
  {
   "cell_type": "code",
   "execution_count": 12,
   "metadata": {},
   "outputs": [],
   "source": [
    "#pd.read"
   ]
  },
  {
   "cell_type": "markdown",
   "metadata": {},
   "source": [
    "To have a quick look at what you've read, do:"
   ]
  },
  {
   "cell_type": "code",
   "execution_count": 13,
   "metadata": {},
   "outputs": [
    {
     "name": "stdout",
     "output_type": "stream",
     "text": [
      "       course1  course2  course3  course4\n",
      "name                                     \n",
      "Marie       24       18       30       20\n",
      "John        18       27       29       27\n",
      "Kati        21       24       28       27\n",
      "Olaf        30       30       29       30\n",
      "Mark        24       25       27       21\n",
      "        course1  course2  course3  course4\n",
      "name                                      \n",
      "Jean         18       28       26       24\n",
      "Alex         19       20       27       27\n",
      "Pier         24       29       23       26\n",
      "Bennet       24       25       26       30\n",
      "Luis         20       20       18       18\n",
      "<class 'pandas.core.frame.DataFrame'>\n",
      "Index: 11 entries, Marie to Luis\n",
      "Data columns (total 4 columns):\n",
      " #   Column   Non-Null Count  Dtype\n",
      "---  ------   --------------  -----\n",
      " 0   course1  11 non-null     int64\n",
      " 1   course2  11 non-null     int64\n",
      " 2   course3  11 non-null     int64\n",
      " 3   course4  11 non-null     int64\n",
      "dtypes: int64(4)\n",
      "memory usage: 440.0+ bytes\n",
      "None\n"
     ]
    }
   ],
   "source": [
    "pd.options.display.max_rows = 999 #to fix back from 3\n",
    "print(df.head())\n",
    "print(df.tail())\n",
    "print(df.info())"
   ]
  },
  {
   "cell_type": "markdown",
   "metadata": {},
   "source": [
    "We see that there are no null objects, if there were, we would probably need to delete them before analysing the data."
   ]
  },
  {
   "cell_type": "code",
   "execution_count": 14,
   "metadata": {},
   "outputs": [
    {
     "name": "stdout",
     "output_type": "stream",
     "text": [
      "        course1  course2  course3  course4\n",
      "name                                      \n",
      "Marie      24.0     18.0       30       20\n",
      "John       18.0     27.0       29       27\n",
      "Kati       21.0     24.0       28       27\n",
      "Olaf       30.0     30.0       29       30\n",
      "Mark        NaN     25.0       27       21\n",
      "Olga       23.0     26.0       30       30\n",
      "Jean       18.0     28.0       26       24\n",
      "Alex       19.0      NaN       27       27\n",
      "Pier       24.0     29.0       23       26\n",
      "Bennet     24.0     25.0       26       30\n",
      "Luis       20.0     20.0       18       18\n"
     ]
    }
   ],
   "source": [
    "df2 = pd.read_csv('data/example_empty.csv', index_col=0)\n",
    "\n",
    "print(df2) "
   ]
  },
  {
   "cell_type": "code",
   "execution_count": 15,
   "metadata": {},
   "outputs": [
    {
     "name": "stdout",
     "output_type": "stream",
     "text": [
      "<class 'pandas.core.frame.DataFrame'>\n",
      "Index: 11 entries, Marie to Luis\n",
      "Data columns (total 4 columns):\n",
      " #   Column   Non-Null Count  Dtype  \n",
      "---  ------   --------------  -----  \n",
      " 0   course1  10 non-null     float64\n",
      " 1   course2  10 non-null     float64\n",
      " 2   course3  11 non-null     int64  \n",
      " 3   course4  11 non-null     int64  \n",
      "dtypes: float64(2), int64(2)\n",
      "memory usage: 440.0+ bytes\n",
      "None\n"
     ]
    }
   ],
   "source": [
    "print(df2.info())"
   ]
  },
  {
   "cell_type": "markdown",
   "metadata": {},
   "source": [
    "Let's clean this data:"
   ]
  },
  {
   "cell_type": "code",
   "execution_count": 16,
   "metadata": {},
   "outputs": [
    {
     "name": "stdout",
     "output_type": "stream",
     "text": [
      "        course1  course2  course3  course4\n",
      "name                                      \n",
      "Marie      24.0     18.0       30       20\n",
      "John       18.0     27.0       29       27\n",
      "Kati       21.0     24.0       28       27\n",
      "Olaf       30.0     30.0       29       30\n",
      "Olga       23.0     26.0       30       30\n",
      "Jean       18.0     28.0       26       24\n",
      "Pier       24.0     29.0       23       26\n",
      "Bennet     24.0     25.0       26       30\n",
      "Luis       20.0     20.0       18       18\n"
     ]
    }
   ],
   "source": [
    "new_df2 = df2.dropna() #returns a new dataframe\n",
    "print(new_df2)"
   ]
  },
  {
   "cell_type": "code",
   "execution_count": 17,
   "metadata": {
    "scrolled": true
   },
   "outputs": [
    {
     "name": "stdout",
     "output_type": "stream",
     "text": [
      "        course1  course2  course3  course4\n",
      "name                                      \n",
      "Marie      24.0     18.0       30       20\n",
      "John       18.0     27.0       29       27\n",
      "Kati       21.0     24.0       28       27\n",
      "Olaf       30.0     30.0       29       30\n",
      "Olga       23.0     26.0       30       30\n",
      "Jean       18.0     28.0       26       24\n",
      "Pier       24.0     29.0       23       26\n",
      "Bennet     24.0     25.0       26       30\n",
      "Luis       20.0     20.0       18       18\n"
     ]
    }
   ],
   "source": [
    "df2.dropna(inplace = True) #deletes directly (you might not have space otherwise)\n",
    "print(df2)"
   ]
  },
  {
   "cell_type": "code",
   "execution_count": 18,
   "metadata": {},
   "outputs": [
    {
     "data": {
      "text/html": [
       "<div>\n",
       "<style scoped>\n",
       "    .dataframe tbody tr th:only-of-type {\n",
       "        vertical-align: middle;\n",
       "    }\n",
       "\n",
       "    .dataframe tbody tr th {\n",
       "        vertical-align: top;\n",
       "    }\n",
       "\n",
       "    .dataframe thead th {\n",
       "        text-align: right;\n",
       "    }\n",
       "</style>\n",
       "<table border=\"1\" class=\"dataframe\">\n",
       "  <thead>\n",
       "    <tr style=\"text-align: right;\">\n",
       "      <th></th>\n",
       "      <th>course1</th>\n",
       "      <th>course2</th>\n",
       "      <th>course3</th>\n",
       "    </tr>\n",
       "    <tr>\n",
       "      <th>name</th>\n",
       "      <th></th>\n",
       "      <th></th>\n",
       "      <th></th>\n",
       "    </tr>\n",
       "  </thead>\n",
       "  <tbody>\n",
       "    <tr>\n",
       "      <th>Marie</th>\n",
       "      <td>24.0</td>\n",
       "      <td>18.0</td>\n",
       "      <td>30</td>\n",
       "    </tr>\n",
       "    <tr>\n",
       "      <th>John</th>\n",
       "      <td>18.0</td>\n",
       "      <td>27.0</td>\n",
       "      <td>29</td>\n",
       "    </tr>\n",
       "    <tr>\n",
       "      <th>Kati</th>\n",
       "      <td>21.0</td>\n",
       "      <td>24.0</td>\n",
       "      <td>28</td>\n",
       "    </tr>\n",
       "    <tr>\n",
       "      <th>Olaf</th>\n",
       "      <td>30.0</td>\n",
       "      <td>30.0</td>\n",
       "      <td>29</td>\n",
       "    </tr>\n",
       "    <tr>\n",
       "      <th>Olga</th>\n",
       "      <td>23.0</td>\n",
       "      <td>26.0</td>\n",
       "      <td>30</td>\n",
       "    </tr>\n",
       "    <tr>\n",
       "      <th>Jean</th>\n",
       "      <td>18.0</td>\n",
       "      <td>28.0</td>\n",
       "      <td>26</td>\n",
       "    </tr>\n",
       "    <tr>\n",
       "      <th>Pier</th>\n",
       "      <td>24.0</td>\n",
       "      <td>29.0</td>\n",
       "      <td>23</td>\n",
       "    </tr>\n",
       "    <tr>\n",
       "      <th>Bennet</th>\n",
       "      <td>24.0</td>\n",
       "      <td>25.0</td>\n",
       "      <td>26</td>\n",
       "    </tr>\n",
       "    <tr>\n",
       "      <th>Luis</th>\n",
       "      <td>20.0</td>\n",
       "      <td>20.0</td>\n",
       "      <td>18</td>\n",
       "    </tr>\n",
       "  </tbody>\n",
       "</table>\n",
       "</div>"
      ],
      "text/plain": [
       "        course1  course2  course3\n",
       "name                             \n",
       "Marie      24.0     18.0       30\n",
       "John       18.0     27.0       29\n",
       "Kati       21.0     24.0       28\n",
       "Olaf       30.0     30.0       29\n",
       "Olga       23.0     26.0       30\n",
       "Jean       18.0     28.0       26\n",
       "Pier       24.0     29.0       23\n",
       "Bennet     24.0     25.0       26\n",
       "Luis       20.0     20.0       18"
      ]
     },
     "execution_count": 18,
     "metadata": {},
     "output_type": "execute_result"
    }
   ],
   "source": [
    "df2.drop(\"course4\", axis='columns') #how to drop a column"
   ]
  },
  {
   "cell_type": "code",
   "execution_count": 19,
   "metadata": {},
   "outputs": [
    {
     "name": "stdout",
     "output_type": "stream",
     "text": [
      "        course1  course2  course3  course4\n",
      "name                                      \n",
      "Marie        24       18       30       20\n",
      "John         18       27       29       27\n",
      "Kati         21       24       28       27\n",
      "Olaf         30       30       29       30\n",
      "Mark         24       25       27       21\n",
      "Olga         23       26       30       30\n",
      "Jean         18       28       26       24\n",
      "Alex         19       20       27       27\n",
      "Bennet       24       25       26       30\n",
      "Luis         20       20       18       18\n"
     ]
    }
   ],
   "source": [
    "print(df.drop('Pier', axis='rows')) #how to drop a row"
   ]
  },
  {
   "cell_type": "markdown",
   "metadata": {},
   "source": [
    "You can also fill the null values with something. For example, let's give 18 to students without marks:"
   ]
  },
  {
   "cell_type": "code",
   "execution_count": 20,
   "metadata": {},
   "outputs": [
    {
     "name": "stdout",
     "output_type": "stream",
     "text": [
      "        course1  course2  course3  course4\n",
      "name                                      \n",
      "Marie      24.0     18.0       30       20\n",
      "John       18.0     27.0       29       27\n",
      "Kati       21.0     24.0       28       27\n",
      "Olaf       30.0     30.0       29       30\n",
      "Mark       18.0     25.0       27       21\n",
      "Olga       23.0     26.0       30       30\n",
      "Jean       18.0     28.0       26       24\n",
      "Alex       19.0     18.0       27       27\n",
      "Pier       24.0     29.0       23       26\n",
      "Bennet     24.0     25.0       26       30\n",
      "Luis       20.0     20.0       18       18\n"
     ]
    }
   ],
   "source": [
    "df2 = pd.read_csv('data/example_empty.csv', index_col=0)\n",
    "df2.fillna(18, inplace = True)\n",
    "print(df2)"
   ]
  },
  {
   "cell_type": "markdown",
   "metadata": {},
   "source": [
    "Let's edit more:"
   ]
  },
  {
   "cell_type": "code",
   "execution_count": 21,
   "metadata": {},
   "outputs": [
    {
     "name": "stdout",
     "output_type": "stream",
     "text": [
      "       course1  course2  course3  course4\n",
      "name                                     \n",
      "Marie       24       18       30       20\n",
      "John    failed       27       29       27\n",
      "Kati        21       24       28       27\n",
      "Olaf        30       30       29       30\n",
      "Mark        24       25       27       21\n",
      "Olga        23       26       30       30\n",
      "Jean    failed       28       26       24\n",
      "Alex        19       20       27       27\n",
      "Pier        24       29       23       26\n",
      "Bennet      24       25       26       30\n",
      "Luis        20       20       18       18\n"
     ]
    }
   ],
   "source": [
    "df[\"course1\"] = df[\"course1\"].replace(18, \"failed\")\n",
    "print(df)"
   ]
  },
  {
   "cell_type": "markdown",
   "metadata": {},
   "source": [
    "### **Basic statistics**"
   ]
  },
  {
   "cell_type": "code",
   "execution_count": 22,
   "metadata": {},
   "outputs": [
    {
     "data": {
      "text/html": [
       "<div>\n",
       "<style scoped>\n",
       "    .dataframe tbody tr th:only-of-type {\n",
       "        vertical-align: middle;\n",
       "    }\n",
       "\n",
       "    .dataframe tbody tr th {\n",
       "        vertical-align: top;\n",
       "    }\n",
       "\n",
       "    .dataframe thead th {\n",
       "        text-align: right;\n",
       "    }\n",
       "</style>\n",
       "<table border=\"1\" class=\"dataframe\">\n",
       "  <thead>\n",
       "    <tr style=\"text-align: right;\">\n",
       "      <th></th>\n",
       "      <th>course1</th>\n",
       "      <th>course2</th>\n",
       "      <th>course3</th>\n",
       "      <th>course4</th>\n",
       "    </tr>\n",
       "  </thead>\n",
       "  <tbody>\n",
       "    <tr>\n",
       "      <th>count</th>\n",
       "      <td>11.000000</td>\n",
       "      <td>11.000000</td>\n",
       "      <td>11.000000</td>\n",
       "      <td>11.000000</td>\n",
       "    </tr>\n",
       "    <tr>\n",
       "      <th>mean</th>\n",
       "      <td>22.272727</td>\n",
       "      <td>24.727273</td>\n",
       "      <td>26.636364</td>\n",
       "      <td>25.454545</td>\n",
       "    </tr>\n",
       "    <tr>\n",
       "      <th>std</th>\n",
       "      <td>3.552208</td>\n",
       "      <td>3.926599</td>\n",
       "      <td>3.529100</td>\n",
       "      <td>4.203894</td>\n",
       "    </tr>\n",
       "    <tr>\n",
       "      <th>min</th>\n",
       "      <td>18.000000</td>\n",
       "      <td>18.000000</td>\n",
       "      <td>18.000000</td>\n",
       "      <td>18.000000</td>\n",
       "    </tr>\n",
       "    <tr>\n",
       "      <th>25%</th>\n",
       "      <td>19.500000</td>\n",
       "      <td>22.000000</td>\n",
       "      <td>26.000000</td>\n",
       "      <td>22.500000</td>\n",
       "    </tr>\n",
       "    <tr>\n",
       "      <th>50%</th>\n",
       "      <td>23.000000</td>\n",
       "      <td>25.000000</td>\n",
       "      <td>27.000000</td>\n",
       "      <td>27.000000</td>\n",
       "    </tr>\n",
       "    <tr>\n",
       "      <th>75%</th>\n",
       "      <td>24.000000</td>\n",
       "      <td>27.500000</td>\n",
       "      <td>29.000000</td>\n",
       "      <td>28.500000</td>\n",
       "    </tr>\n",
       "    <tr>\n",
       "      <th>max</th>\n",
       "      <td>30.000000</td>\n",
       "      <td>30.000000</td>\n",
       "      <td>30.000000</td>\n",
       "      <td>30.000000</td>\n",
       "    </tr>\n",
       "  </tbody>\n",
       "</table>\n",
       "</div>"
      ],
      "text/plain": [
       "         course1    course2    course3    course4\n",
       "count  11.000000  11.000000  11.000000  11.000000\n",
       "mean   22.272727  24.727273  26.636364  25.454545\n",
       "std     3.552208   3.926599   3.529100   4.203894\n",
       "min    18.000000  18.000000  18.000000  18.000000\n",
       "25%    19.500000  22.000000  26.000000  22.500000\n",
       "50%    23.000000  25.000000  27.000000  27.000000\n",
       "75%    24.000000  27.500000  29.000000  28.500000\n",
       "max    30.000000  30.000000  30.000000  30.000000"
      ]
     },
     "execution_count": 22,
     "metadata": {},
     "output_type": "execute_result"
    }
   ],
   "source": [
    "df = pd.read_csv('data/example.csv', index_col=0)\n",
    "df.describe()"
   ]
  },
  {
   "cell_type": "code",
   "execution_count": 23,
   "metadata": {},
   "outputs": [
    {
     "data": {
      "text/plain": [
       "course1    22.272727\n",
       "course2    24.727273\n",
       "course3    26.636364\n",
       "course4    25.454545\n",
       "dtype: float64"
      ]
     },
     "execution_count": 23,
     "metadata": {},
     "output_type": "execute_result"
    }
   ],
   "source": [
    "df.mean() #column average"
   ]
  },
  {
   "cell_type": "code",
   "execution_count": 24,
   "metadata": {},
   "outputs": [
    {
     "data": {
      "text/plain": [
       "22.272727272727273"
      ]
     },
     "execution_count": 24,
     "metadata": {},
     "output_type": "execute_result"
    }
   ],
   "source": [
    "df[\"course1\"].mean() #column average"
   ]
  },
  {
   "cell_type": "code",
   "execution_count": 25,
   "metadata": {},
   "outputs": [
    {
     "data": {
      "text/plain": [
       "name\n",
       "Marie     23.00\n",
       "John      25.25\n",
       "Kati      25.00\n",
       "Olaf      29.75\n",
       "Mark      24.25\n",
       "Olga      27.25\n",
       "Jean      24.00\n",
       "Alex      23.25\n",
       "Pier      25.50\n",
       "Bennet    26.25\n",
       "Luis      19.00\n",
       "dtype: float64"
      ]
     },
     "execution_count": 25,
     "metadata": {},
     "output_type": "execute_result"
    }
   ],
   "source": [
    "df.mean(axis=1) #rows average"
   ]
  },
  {
   "cell_type": "markdown",
   "metadata": {},
   "source": [
    "This will add a new column with the average by rows:"
   ]
  },
  {
   "cell_type": "code",
   "execution_count": 26,
   "metadata": {},
   "outputs": [
    {
     "name": "stdout",
     "output_type": "stream",
     "text": [
      "        course1  course2  course3  course4   mean\n",
      "name                                             \n",
      "Marie        24       18       30       20  23.00\n",
      "John         18       27       29       27  25.25\n",
      "Kati         21       24       28       27  25.00\n",
      "Olaf         30       30       29       30  29.75\n",
      "Mark         24       25       27       21  24.25\n",
      "Olga         23       26       30       30  27.25\n",
      "Jean         18       28       26       24  24.00\n",
      "Alex         19       20       27       27  23.25\n",
      "Pier         24       29       23       26  25.50\n",
      "Bennet       24       25       26       30  26.25\n",
      "Luis         20       20       18       18  19.00\n"
     ]
    }
   ],
   "source": [
    "df[\"mean\"]=df.mean(axis=1)\n",
    "print(df)"
   ]
  },
  {
   "cell_type": "markdown",
   "metadata": {},
   "source": [
    "To sort the values:"
   ]
  },
  {
   "cell_type": "code",
   "execution_count": 27,
   "metadata": {},
   "outputs": [
    {
     "name": "stdout",
     "output_type": "stream",
     "text": [
      "        course1  course2  course3  course4   mean\n",
      "name                                             \n",
      "Olaf         30       30       29       30  29.75\n",
      "Olga         23       26       30       30  27.25\n",
      "Bennet       24       25       26       30  26.25\n",
      "Pier         24       29       23       26  25.50\n",
      "John         18       27       29       27  25.25\n",
      "Kati         21       24       28       27  25.00\n",
      "Mark         24       25       27       21  24.25\n",
      "Jean         18       28       26       24  24.00\n",
      "Alex         19       20       27       27  23.25\n",
      "Marie        24       18       30       20  23.00\n",
      "Luis         20       20       18       18  19.00\n"
     ]
    }
   ],
   "source": [
    "df.sort_values(by=['mean'], inplace=True, ascending=False)\n",
    "print(df)"
   ]
  },
  {
   "cell_type": "markdown",
   "metadata": {},
   "source": [
    "To save this result:"
   ]
  },
  {
   "cell_type": "code",
   "execution_count": 28,
   "metadata": {},
   "outputs": [],
   "source": [
    "df.to_csv('data/example_mean.csv')"
   ]
  },
  {
   "cell_type": "code",
   "execution_count": 29,
   "metadata": {},
   "outputs": [
    {
     "data": {
      "text/plain": [
       "24.0"
      ]
     },
     "execution_count": 29,
     "metadata": {},
     "output_type": "execute_result"
    }
   ],
   "source": [
    "df.loc[\"Jean\"].mean() #to get average from a specific row"
   ]
  },
  {
   "cell_type": "markdown",
   "metadata": {},
   "source": [
    "How to change values (let's apply penalty to grades):"
   ]
  },
  {
   "cell_type": "code",
   "execution_count": 30,
   "metadata": {},
   "outputs": [
    {
     "name": "stdout",
     "output_type": "stream",
     "text": [
      "        course1  course2  course3  course4   mean\n",
      "name                                             \n",
      "Olaf         30       28       29       30  29.75\n",
      "Olga         23       24       30       30  27.25\n",
      "Bennet       24       23       26       30  26.25\n",
      "Pier         24       27       23       26  25.50\n",
      "John         18       25       29       27  25.25\n",
      "Kati         21       22       28       27  25.00\n",
      "Mark         24       23       27       21  24.25\n",
      "Jean         18       26       26       24  24.00\n",
      "Alex         19       18       27       27  23.25\n",
      "Marie        24       16       30       20  23.00\n",
      "Luis         20       18       18       18  19.00\n"
     ]
    }
   ],
   "source": [
    "df[\"course2\"]=df[\"course2\"]-2\n",
    "print(df)"
   ]
  },
  {
   "cell_type": "markdown",
   "metadata": {},
   "source": [
    "Select all who failed the first course:"
   ]
  },
  {
   "cell_type": "code",
   "execution_count": 31,
   "metadata": {},
   "outputs": [
    {
     "data": {
      "text/html": [
       "<div>\n",
       "<style scoped>\n",
       "    .dataframe tbody tr th:only-of-type {\n",
       "        vertical-align: middle;\n",
       "    }\n",
       "\n",
       "    .dataframe tbody tr th {\n",
       "        vertical-align: top;\n",
       "    }\n",
       "\n",
       "    .dataframe thead th {\n",
       "        text-align: right;\n",
       "    }\n",
       "</style>\n",
       "<table border=\"1\" class=\"dataframe\">\n",
       "  <thead>\n",
       "    <tr style=\"text-align: right;\">\n",
       "      <th></th>\n",
       "      <th>course1</th>\n",
       "      <th>course2</th>\n",
       "      <th>course3</th>\n",
       "      <th>course4</th>\n",
       "      <th>mean</th>\n",
       "    </tr>\n",
       "    <tr>\n",
       "      <th>name</th>\n",
       "      <th></th>\n",
       "      <th></th>\n",
       "      <th></th>\n",
       "      <th></th>\n",
       "      <th></th>\n",
       "    </tr>\n",
       "  </thead>\n",
       "  <tbody>\n",
       "    <tr>\n",
       "      <th>John</th>\n",
       "      <td>18</td>\n",
       "      <td>25</td>\n",
       "      <td>29</td>\n",
       "      <td>27</td>\n",
       "      <td>25.25</td>\n",
       "    </tr>\n",
       "    <tr>\n",
       "      <th>Jean</th>\n",
       "      <td>18</td>\n",
       "      <td>26</td>\n",
       "      <td>26</td>\n",
       "      <td>24</td>\n",
       "      <td>24.00</td>\n",
       "    </tr>\n",
       "  </tbody>\n",
       "</table>\n",
       "</div>"
      ],
      "text/plain": [
       "      course1  course2  course3  course4   mean\n",
       "name                                           \n",
       "John       18       25       29       27  25.25\n",
       "Jean       18       26       26       24  24.00"
      ]
     },
     "execution_count": 31,
     "metadata": {},
     "output_type": "execute_result"
    }
   ],
   "source": [
    "df.loc[df['course1'] == 18]"
   ]
  },
  {
   "cell_type": "markdown",
   "metadata": {},
   "source": [
    "Selecting all failed:"
   ]
  },
  {
   "cell_type": "code",
   "execution_count": 32,
   "metadata": {},
   "outputs": [
    {
     "data": {
      "text/html": [
       "<div>\n",
       "<style scoped>\n",
       "    .dataframe tbody tr th:only-of-type {\n",
       "        vertical-align: middle;\n",
       "    }\n",
       "\n",
       "    .dataframe tbody tr th {\n",
       "        vertical-align: top;\n",
       "    }\n",
       "\n",
       "    .dataframe thead th {\n",
       "        text-align: right;\n",
       "    }\n",
       "</style>\n",
       "<table border=\"1\" class=\"dataframe\">\n",
       "  <thead>\n",
       "    <tr style=\"text-align: right;\">\n",
       "      <th></th>\n",
       "      <th>course1</th>\n",
       "      <th>course2</th>\n",
       "      <th>course3</th>\n",
       "      <th>course4</th>\n",
       "      <th>mean</th>\n",
       "    </tr>\n",
       "    <tr>\n",
       "      <th>name</th>\n",
       "      <th></th>\n",
       "      <th></th>\n",
       "      <th></th>\n",
       "      <th></th>\n",
       "      <th></th>\n",
       "    </tr>\n",
       "  </thead>\n",
       "  <tbody>\n",
       "    <tr>\n",
       "      <th>Olaf</th>\n",
       "      <td>False</td>\n",
       "      <td>False</td>\n",
       "      <td>False</td>\n",
       "      <td>False</td>\n",
       "      <td>False</td>\n",
       "    </tr>\n",
       "    <tr>\n",
       "      <th>Olga</th>\n",
       "      <td>False</td>\n",
       "      <td>False</td>\n",
       "      <td>False</td>\n",
       "      <td>False</td>\n",
       "      <td>False</td>\n",
       "    </tr>\n",
       "    <tr>\n",
       "      <th>Bennet</th>\n",
       "      <td>False</td>\n",
       "      <td>False</td>\n",
       "      <td>False</td>\n",
       "      <td>False</td>\n",
       "      <td>False</td>\n",
       "    </tr>\n",
       "    <tr>\n",
       "      <th>Pier</th>\n",
       "      <td>False</td>\n",
       "      <td>False</td>\n",
       "      <td>False</td>\n",
       "      <td>False</td>\n",
       "      <td>False</td>\n",
       "    </tr>\n",
       "    <tr>\n",
       "      <th>John</th>\n",
       "      <td>True</td>\n",
       "      <td>False</td>\n",
       "      <td>False</td>\n",
       "      <td>False</td>\n",
       "      <td>False</td>\n",
       "    </tr>\n",
       "    <tr>\n",
       "      <th>Kati</th>\n",
       "      <td>False</td>\n",
       "      <td>False</td>\n",
       "      <td>False</td>\n",
       "      <td>False</td>\n",
       "      <td>False</td>\n",
       "    </tr>\n",
       "    <tr>\n",
       "      <th>Mark</th>\n",
       "      <td>False</td>\n",
       "      <td>False</td>\n",
       "      <td>False</td>\n",
       "      <td>False</td>\n",
       "      <td>False</td>\n",
       "    </tr>\n",
       "    <tr>\n",
       "      <th>Jean</th>\n",
       "      <td>True</td>\n",
       "      <td>False</td>\n",
       "      <td>False</td>\n",
       "      <td>False</td>\n",
       "      <td>False</td>\n",
       "    </tr>\n",
       "    <tr>\n",
       "      <th>Alex</th>\n",
       "      <td>False</td>\n",
       "      <td>True</td>\n",
       "      <td>False</td>\n",
       "      <td>False</td>\n",
       "      <td>False</td>\n",
       "    </tr>\n",
       "    <tr>\n",
       "      <th>Marie</th>\n",
       "      <td>False</td>\n",
       "      <td>False</td>\n",
       "      <td>False</td>\n",
       "      <td>False</td>\n",
       "      <td>False</td>\n",
       "    </tr>\n",
       "    <tr>\n",
       "      <th>Luis</th>\n",
       "      <td>False</td>\n",
       "      <td>True</td>\n",
       "      <td>True</td>\n",
       "      <td>True</td>\n",
       "      <td>False</td>\n",
       "    </tr>\n",
       "  </tbody>\n",
       "</table>\n",
       "</div>"
      ],
      "text/plain": [
       "        course1  course2  course3  course4   mean\n",
       "name                                             \n",
       "Olaf      False    False    False    False  False\n",
       "Olga      False    False    False    False  False\n",
       "Bennet    False    False    False    False  False\n",
       "Pier      False    False    False    False  False\n",
       "John       True    False    False    False  False\n",
       "Kati      False    False    False    False  False\n",
       "Mark      False    False    False    False  False\n",
       "Jean       True    False    False    False  False\n",
       "Alex      False     True    False    False  False\n",
       "Marie     False    False    False    False  False\n",
       "Luis      False     True     True     True  False"
      ]
     },
     "execution_count": 32,
     "metadata": {},
     "output_type": "execute_result"
    }
   ],
   "source": [
    "df==18 # \"a mask\""
   ]
  },
  {
   "cell_type": "code",
   "execution_count": 33,
   "metadata": {},
   "outputs": [
    {
     "name": "stdout",
     "output_type": "stream",
     "text": [
      "<class 'pandas.core.frame.DataFrame'>\n",
      "      course1  course2  course3  course4   mean\n",
      "name                                           \n",
      "John       18       25       29       27  25.25\n",
      "Jean       18       26       26       24  24.00\n",
      "Alex       19       18       27       27  23.25\n",
      "Luis       20       18       18       18  19.00\n"
     ]
    }
   ],
   "source": [
    "failed=df[(df == 18).any(axis=1)]\n",
    "print(type(failed))\n",
    "print(failed)"
   ]
  },
  {
   "cell_type": "markdown",
   "metadata": {},
   "source": [
    "Let's see who passed:"
   ]
  },
  {
   "cell_type": "code",
   "execution_count": 34,
   "metadata": {},
   "outputs": [
    {
     "name": "stdout",
     "output_type": "stream",
     "text": [
      "        course1  course2  course3  course4   mean\n",
      "name                                             \n",
      "Olaf         30       28       29       30  29.75\n",
      "Olga         23       24       30       30  27.25\n",
      "Bennet       24       23       26       30  26.25\n",
      "Pier         24       27       23       26  25.50\n",
      "Kati         21       22       28       27  25.00\n",
      "Mark         24       23       27       21  24.25\n",
      "Marie        24       16       30       20  23.00\n"
     ]
    }
   ],
   "source": [
    "print(pd.concat([df,failed]).drop_duplicates(keep=False))"
   ]
  },
  {
   "cell_type": "code",
   "execution_count": 35,
   "metadata": {},
   "outputs": [
    {
     "name": "stdout",
     "output_type": "stream",
     "text": [
      "name\n",
      "Olaf      False\n",
      "Olga      False\n",
      "Bennet    False\n",
      "Pier      False\n",
      "John      False\n",
      "Kati      False\n",
      "Mark      False\n",
      "Jean      False\n",
      "Alex      False\n",
      "Marie     False\n",
      "Luis      False\n",
      "John       True\n",
      "Jean       True\n",
      "Alex       True\n",
      "Luis       True\n",
      "dtype: bool\n"
     ]
    }
   ],
   "source": [
    "print(pd.concat([df,failed]).duplicated())"
   ]
  },
  {
   "cell_type": "markdown",
   "metadata": {},
   "source": [
    "Correlation:"
   ]
  },
  {
   "cell_type": "code",
   "execution_count": 36,
   "metadata": {},
   "outputs": [
    {
     "data": {
      "text/html": [
       "<div>\n",
       "<style scoped>\n",
       "    .dataframe tbody tr th:only-of-type {\n",
       "        vertical-align: middle;\n",
       "    }\n",
       "\n",
       "    .dataframe tbody tr th {\n",
       "        vertical-align: top;\n",
       "    }\n",
       "\n",
       "    .dataframe thead th {\n",
       "        text-align: right;\n",
       "    }\n",
       "</style>\n",
       "<table border=\"1\" class=\"dataframe\">\n",
       "  <thead>\n",
       "    <tr style=\"text-align: right;\">\n",
       "      <th></th>\n",
       "      <th>course1</th>\n",
       "      <th>course2</th>\n",
       "      <th>course3</th>\n",
       "      <th>course4</th>\n",
       "      <th>mean</th>\n",
       "    </tr>\n",
       "  </thead>\n",
       "  <tbody>\n",
       "    <tr>\n",
       "      <th>course1</th>\n",
       "      <td>1.000000</td>\n",
       "      <td>0.299813</td>\n",
       "      <td>0.232057</td>\n",
       "      <td>0.265426</td>\n",
       "      <td>0.614297</td>\n",
       "    </tr>\n",
       "    <tr>\n",
       "      <th>course2</th>\n",
       "      <td>0.299813</td>\n",
       "      <td>1.000000</td>\n",
       "      <td>0.143672</td>\n",
       "      <td>0.571658</td>\n",
       "      <td>0.728376</td>\n",
       "    </tr>\n",
       "    <tr>\n",
       "      <th>course3</th>\n",
       "      <td>0.232057</td>\n",
       "      <td>0.143672</td>\n",
       "      <td>1.000000</td>\n",
       "      <td>0.490822</td>\n",
       "      <td>0.643489</td>\n",
       "    </tr>\n",
       "    <tr>\n",
       "      <th>course4</th>\n",
       "      <td>0.265426</td>\n",
       "      <td>0.571658</td>\n",
       "      <td>0.490822</td>\n",
       "      <td>1.000000</td>\n",
       "      <td>0.840995</td>\n",
       "    </tr>\n",
       "    <tr>\n",
       "      <th>mean</th>\n",
       "      <td>0.614297</td>\n",
       "      <td>0.728376</td>\n",
       "      <td>0.643489</td>\n",
       "      <td>0.840995</td>\n",
       "      <td>1.000000</td>\n",
       "    </tr>\n",
       "  </tbody>\n",
       "</table>\n",
       "</div>"
      ],
      "text/plain": [
       "          course1   course2   course3   course4      mean\n",
       "course1  1.000000  0.299813  0.232057  0.265426  0.614297\n",
       "course2  0.299813  1.000000  0.143672  0.571658  0.728376\n",
       "course3  0.232057  0.143672  1.000000  0.490822  0.643489\n",
       "course4  0.265426  0.571658  0.490822  1.000000  0.840995\n",
       "mean     0.614297  0.728376  0.643489  0.840995  1.000000"
      ]
     },
     "execution_count": 36,
     "metadata": {},
     "output_type": "execute_result"
    }
   ],
   "source": [
    "df.corr() #numbers were random, so probably no correlation here"
   ]
  },
  {
   "cell_type": "markdown",
   "metadata": {},
   "source": [
    "Plotting:"
   ]
  },
  {
   "cell_type": "code",
   "execution_count": 37,
   "metadata": {},
   "outputs": [
    {
     "data": {
      "text/plain": [
       "<Axes: ylabel='Frequency'>"
      ]
     },
     "execution_count": 37,
     "metadata": {},
     "output_type": "execute_result"
    },
    {
     "data": {
      "image/png": "[encoded data removed]",
      "text/plain": [
       "<Figure size 640x480 with 1 Axes>"
      ]
     },
     "metadata": {},
     "output_type": "display_data"
    }
   ],
   "source": [
    "import matplotlib.pyplot as plt\n",
    "df[\"course1\"].plot(kind = 'hist')"
   ]
  },
  {
   "cell_type": "markdown",
   "metadata": {},
   "source": [
    "**groupby fucntion:**\n",
    "\n",
    "The groupby function in pandas is a very useful function for grouping and aggregating data. It allows you to group a DataFrame by one or more columns and apply a function to each group.\n",
    "\n",
    "For example, consider the following DataFrame:"
   ]
  },
  {
   "cell_type": "code",
   "execution_count": 38,
   "metadata": {},
   "outputs": [
    {
     "data": {
      "text/html": [
       "<div>\n",
       "<style scoped>\n",
       "    .dataframe tbody tr th:only-of-type {\n",
       "        vertical-align: middle;\n",
       "    }\n",
       "\n",
       "    .dataframe tbody tr th {\n",
       "        vertical-align: top;\n",
       "    }\n",
       "\n",
       "    .dataframe thead th {\n",
       "        text-align: right;\n",
       "    }\n",
       "</style>\n",
       "<table border=\"1\" class=\"dataframe\">\n",
       "  <thead>\n",
       "    <tr style=\"text-align: right;\">\n",
       "      <th></th>\n",
       "      <th>Animal</th>\n",
       "      <th>Size</th>\n",
       "      <th>Weight</th>\n",
       "    </tr>\n",
       "  </thead>\n",
       "  <tbody>\n",
       "    <tr>\n",
       "      <th>0</th>\n",
       "      <td>Dog</td>\n",
       "      <td>Small</td>\n",
       "      <td>5</td>\n",
       "    </tr>\n",
       "    <tr>\n",
       "      <th>1</th>\n",
       "      <td>Cat</td>\n",
       "      <td>Small</td>\n",
       "      <td>3</td>\n",
       "    </tr>\n",
       "    <tr>\n",
       "      <th>2</th>\n",
       "      <td>Dog</td>\n",
       "      <td>Medium</td>\n",
       "      <td>15</td>\n",
       "    </tr>\n",
       "    <tr>\n",
       "      <th>3</th>\n",
       "      <td>Cat</td>\n",
       "      <td>Large</td>\n",
       "      <td>10</td>\n",
       "    </tr>\n",
       "    <tr>\n",
       "      <th>4</th>\n",
       "      <td>Dog</td>\n",
       "      <td>Large</td>\n",
       "      <td>20</td>\n",
       "    </tr>\n",
       "  </tbody>\n",
       "</table>\n",
       "</div>"
      ],
      "text/plain": [
       "  Animal    Size  Weight\n",
       "0    Dog   Small       5\n",
       "1    Cat   Small       3\n",
       "2    Dog  Medium      15\n",
       "3    Cat   Large      10\n",
       "4    Dog   Large      20"
      ]
     },
     "execution_count": 38,
     "metadata": {},
     "output_type": "execute_result"
    }
   ],
   "source": [
    "df3 = pd.DataFrame({'Animal': ['Dog', 'Cat', 'Dog', 'Cat', 'Dog'],\n",
    "                   'Size': ['Small', 'Small', 'Medium', 'Large', 'Large'],\n",
    "                   'Weight': [5, 3, 15, 10, 20]})\n",
    "\n",
    "df3"
   ]
  },
  {
   "cell_type": "markdown",
   "metadata": {},
   "source": [
    "If you want to group the data by the Animal column and calculate the mean weight for each group, you can use the groupby function like this:"
   ]
  },
  {
   "cell_type": "code",
   "execution_count": 39,
   "metadata": {},
   "outputs": [
    {
     "data": {
      "text/plain": [
       "Animal\n",
       "Cat     6.500000\n",
       "Dog    13.333333\n",
       "Name: Weight, dtype: float64"
      ]
     },
     "execution_count": 39,
     "metadata": {},
     "output_type": "execute_result"
    }
   ],
   "source": [
    "df3.groupby('Animal')['Weight'].mean()"
   ]
  },
  {
   "cell_type": "markdown",
   "metadata": {},
   "source": [
    "You can also group the data by multiple columns and apply multiple functions to each group. For example, to group the data by both the Animal and Size columns and calculate the mean and median weight for each group, you can use the groupby function like this:"
   ]
  },
  {
   "cell_type": "code",
   "execution_count": 40,
   "metadata": {},
   "outputs": [
    {
     "data": {
      "text/html": [
       "<div>\n",
       "<style scoped>\n",
       "    .dataframe tbody tr th:only-of-type {\n",
       "        vertical-align: middle;\n",
       "    }\n",
       "\n",
       "    .dataframe tbody tr th {\n",
       "        vertical-align: top;\n",
       "    }\n",
       "\n",
       "    .dataframe thead th {\n",
       "        text-align: right;\n",
       "    }\n",
       "</style>\n",
       "<table border=\"1\" class=\"dataframe\">\n",
       "  <thead>\n",
       "    <tr style=\"text-align: right;\">\n",
       "      <th></th>\n",
       "      <th></th>\n",
       "      <th>mean</th>\n",
       "      <th>median</th>\n",
       "    </tr>\n",
       "    <tr>\n",
       "      <th>Animal</th>\n",
       "      <th>Size</th>\n",
       "      <th></th>\n",
       "      <th></th>\n",
       "    </tr>\n",
       "  </thead>\n",
       "  <tbody>\n",
       "    <tr>\n",
       "      <th rowspan=\"2\" valign=\"top\">Cat</th>\n",
       "      <th>Large</th>\n",
       "      <td>10.0</td>\n",
       "      <td>10.0</td>\n",
       "    </tr>\n",
       "    <tr>\n",
       "      <th>Small</th>\n",
       "      <td>3.0</td>\n",
       "      <td>3.0</td>\n",
       "    </tr>\n",
       "    <tr>\n",
       "      <th rowspan=\"3\" valign=\"top\">Dog</th>\n",
       "      <th>Large</th>\n",
       "      <td>20.0</td>\n",
       "      <td>20.0</td>\n",
       "    </tr>\n",
       "    <tr>\n",
       "      <th>Medium</th>\n",
       "      <td>15.0</td>\n",
       "      <td>15.0</td>\n",
       "    </tr>\n",
       "    <tr>\n",
       "      <th>Small</th>\n",
       "      <td>5.0</td>\n",
       "      <td>5.0</td>\n",
       "    </tr>\n",
       "  </tbody>\n",
       "</table>\n",
       "</div>"
      ],
      "text/plain": [
       "               mean  median\n",
       "Animal Size                \n",
       "Cat    Large   10.0    10.0\n",
       "       Small    3.0     3.0\n",
       "Dog    Large   20.0    20.0\n",
       "       Medium  15.0    15.0\n",
       "       Small    5.0     5.0"
      ]
     },
     "execution_count": 40,
     "metadata": {},
     "output_type": "execute_result"
    }
   ],
   "source": [
    "df3.groupby(['Animal', 'Size'])['Weight'].agg(['mean', 'median'])"
   ]
  },
  {
   "cell_type": "markdown",
   "metadata": {},
   "source": [
    "**Applying more advanced functions:**"
   ]
  },
  {
   "cell_type": "code",
   "execution_count": 41,
   "metadata": {},
   "outputs": [],
   "source": [
    "import numpy as np"
   ]
  },
  {
   "cell_type": "code",
   "execution_count": 42,
   "metadata": {},
   "outputs": [
    {
     "data": {
      "text/html": [
       "<div>\n",
       "<style scoped>\n",
       "    .dataframe tbody tr th:only-of-type {\n",
       "        vertical-align: middle;\n",
       "    }\n",
       "\n",
       "    .dataframe tbody tr th {\n",
       "        vertical-align: top;\n",
       "    }\n",
       "\n",
       "    .dataframe thead th {\n",
       "        text-align: right;\n",
       "    }\n",
       "</style>\n",
       "<table border=\"1\" class=\"dataframe\">\n",
       "  <thead>\n",
       "    <tr style=\"text-align: right;\">\n",
       "      <th></th>\n",
       "      <th>course1</th>\n",
       "      <th>course2</th>\n",
       "      <th>course3</th>\n",
       "      <th>course4</th>\n",
       "    </tr>\n",
       "    <tr>\n",
       "      <th>name</th>\n",
       "      <th></th>\n",
       "      <th></th>\n",
       "      <th></th>\n",
       "      <th></th>\n",
       "    </tr>\n",
       "  </thead>\n",
       "  <tbody>\n",
       "    <tr>\n",
       "      <th>Marie</th>\n",
       "      <td>4.898979</td>\n",
       "      <td>4.242641</td>\n",
       "      <td>5.477226</td>\n",
       "      <td>4.472136</td>\n",
       "    </tr>\n",
       "    <tr>\n",
       "      <th>John</th>\n",
       "      <td>4.242641</td>\n",
       "      <td>5.196152</td>\n",
       "      <td>5.385165</td>\n",
       "      <td>5.196152</td>\n",
       "    </tr>\n",
       "    <tr>\n",
       "      <th>Kati</th>\n",
       "      <td>4.582576</td>\n",
       "      <td>4.898979</td>\n",
       "      <td>5.291503</td>\n",
       "      <td>5.196152</td>\n",
       "    </tr>\n",
       "    <tr>\n",
       "      <th>Olaf</th>\n",
       "      <td>5.477226</td>\n",
       "      <td>5.477226</td>\n",
       "      <td>5.385165</td>\n",
       "      <td>5.477226</td>\n",
       "    </tr>\n",
       "    <tr>\n",
       "      <th>Mark</th>\n",
       "      <td>4.898979</td>\n",
       "      <td>5.000000</td>\n",
       "      <td>5.196152</td>\n",
       "      <td>4.582576</td>\n",
       "    </tr>\n",
       "    <tr>\n",
       "      <th>Olga</th>\n",
       "      <td>4.795832</td>\n",
       "      <td>5.099020</td>\n",
       "      <td>5.477226</td>\n",
       "      <td>5.477226</td>\n",
       "    </tr>\n",
       "    <tr>\n",
       "      <th>Jean</th>\n",
       "      <td>4.242641</td>\n",
       "      <td>5.291503</td>\n",
       "      <td>5.099020</td>\n",
       "      <td>4.898979</td>\n",
       "    </tr>\n",
       "    <tr>\n",
       "      <th>Alex</th>\n",
       "      <td>4.358899</td>\n",
       "      <td>4.472136</td>\n",
       "      <td>5.196152</td>\n",
       "      <td>5.196152</td>\n",
       "    </tr>\n",
       "    <tr>\n",
       "      <th>Pier</th>\n",
       "      <td>4.898979</td>\n",
       "      <td>5.385165</td>\n",
       "      <td>4.795832</td>\n",
       "      <td>5.099020</td>\n",
       "    </tr>\n",
       "    <tr>\n",
       "      <th>Bennet</th>\n",
       "      <td>4.898979</td>\n",
       "      <td>5.000000</td>\n",
       "      <td>5.099020</td>\n",
       "      <td>5.477226</td>\n",
       "    </tr>\n",
       "    <tr>\n",
       "      <th>Luis</th>\n",
       "      <td>4.472136</td>\n",
       "      <td>4.472136</td>\n",
       "      <td>4.242641</td>\n",
       "      <td>4.242641</td>\n",
       "    </tr>\n",
       "  </tbody>\n",
       "</table>\n",
       "</div>"
      ],
      "text/plain": [
       "         course1   course2   course3   course4\n",
       "name                                          \n",
       "Marie   4.898979  4.242641  5.477226  4.472136\n",
       "John    4.242641  5.196152  5.385165  5.196152\n",
       "Kati    4.582576  4.898979  5.291503  5.196152\n",
       "Olaf    5.477226  5.477226  5.385165  5.477226\n",
       "Mark    4.898979  5.000000  5.196152  4.582576\n",
       "Olga    4.795832  5.099020  5.477226  5.477226\n",
       "Jean    4.242641  5.291503  5.099020  4.898979\n",
       "Alex    4.358899  4.472136  5.196152  5.196152\n",
       "Pier    4.898979  5.385165  4.795832  5.099020\n",
       "Bennet  4.898979  5.000000  5.099020  5.477226\n",
       "Luis    4.472136  4.472136  4.242641  4.242641"
      ]
     },
     "execution_count": 42,
     "metadata": {},
     "output_type": "execute_result"
    }
   ],
   "source": [
    "#now this is a nonsense example\n",
    "#but it shows how to apply a function to all emelents\n",
    "df = pd.read_csv('data/example.csv', index_col=0)\n",
    "df.apply(np.sqrt) #note that this won't change df itself, do df=df.apply(...)"
   ]
  },
  {
   "cell_type": "markdown",
   "metadata": {},
   "source": [
    "You can use your own functions as well:"
   ]
  },
  {
   "cell_type": "code",
   "execution_count": 43,
   "metadata": {},
   "outputs": [],
   "source": [
    "def myf(x):\n",
    "    return x+10"
   ]
  },
  {
   "cell_type": "code",
   "execution_count": 44,
   "metadata": {},
   "outputs": [
    {
     "data": {
      "text/html": [
       "<div>\n",
       "<style scoped>\n",
       "    .dataframe tbody tr th:only-of-type {\n",
       "        vertical-align: middle;\n",
       "    }\n",
       "\n",
       "    .dataframe tbody tr th {\n",
       "        vertical-align: top;\n",
       "    }\n",
       "\n",
       "    .dataframe thead th {\n",
       "        text-align: right;\n",
       "    }\n",
       "</style>\n",
       "<table border=\"1\" class=\"dataframe\">\n",
       "  <thead>\n",
       "    <tr style=\"text-align: right;\">\n",
       "      <th></th>\n",
       "      <th>course1</th>\n",
       "      <th>course2</th>\n",
       "      <th>course3</th>\n",
       "      <th>course4</th>\n",
       "    </tr>\n",
       "    <tr>\n",
       "      <th>name</th>\n",
       "      <th></th>\n",
       "      <th></th>\n",
       "      <th></th>\n",
       "      <th></th>\n",
       "    </tr>\n",
       "  </thead>\n",
       "  <tbody>\n",
       "    <tr>\n",
       "      <th>Marie</th>\n",
       "      <td>34</td>\n",
       "      <td>28</td>\n",
       "      <td>40</td>\n",
       "      <td>30</td>\n",
       "    </tr>\n",
       "    <tr>\n",
       "      <th>John</th>\n",
       "      <td>28</td>\n",
       "      <td>37</td>\n",
       "      <td>39</td>\n",
       "      <td>37</td>\n",
       "    </tr>\n",
       "    <tr>\n",
       "      <th>Kati</th>\n",
       "      <td>31</td>\n",
       "      <td>34</td>\n",
       "      <td>38</td>\n",
       "      <td>37</td>\n",
       "    </tr>\n",
       "    <tr>\n",
       "      <th>Olaf</th>\n",
       "      <td>40</td>\n",
       "      <td>40</td>\n",
       "      <td>39</td>\n",
       "      <td>40</td>\n",
       "    </tr>\n",
       "    <tr>\n",
       "      <th>Mark</th>\n",
       "      <td>34</td>\n",
       "      <td>35</td>\n",
       "      <td>37</td>\n",
       "      <td>31</td>\n",
       "    </tr>\n",
       "    <tr>\n",
       "      <th>Olga</th>\n",
       "      <td>33</td>\n",
       "      <td>36</td>\n",
       "      <td>40</td>\n",
       "      <td>40</td>\n",
       "    </tr>\n",
       "    <tr>\n",
       "      <th>Jean</th>\n",
       "      <td>28</td>\n",
       "      <td>38</td>\n",
       "      <td>36</td>\n",
       "      <td>34</td>\n",
       "    </tr>\n",
       "    <tr>\n",
       "      <th>Alex</th>\n",
       "      <td>29</td>\n",
       "      <td>30</td>\n",
       "      <td>37</td>\n",
       "      <td>37</td>\n",
       "    </tr>\n",
       "    <tr>\n",
       "      <th>Pier</th>\n",
       "      <td>34</td>\n",
       "      <td>39</td>\n",
       "      <td>33</td>\n",
       "      <td>36</td>\n",
       "    </tr>\n",
       "    <tr>\n",
       "      <th>Bennet</th>\n",
       "      <td>34</td>\n",
       "      <td>35</td>\n",
       "      <td>36</td>\n",
       "      <td>40</td>\n",
       "    </tr>\n",
       "    <tr>\n",
       "      <th>Luis</th>\n",
       "      <td>30</td>\n",
       "      <td>30</td>\n",
       "      <td>28</td>\n",
       "      <td>28</td>\n",
       "    </tr>\n",
       "  </tbody>\n",
       "</table>\n",
       "</div>"
      ],
      "text/plain": [
       "        course1  course2  course3  course4\n",
       "name                                      \n",
       "Marie        34       28       40       30\n",
       "John         28       37       39       37\n",
       "Kati         31       34       38       37\n",
       "Olaf         40       40       39       40\n",
       "Mark         34       35       37       31\n",
       "Olga         33       36       40       40\n",
       "Jean         28       38       36       34\n",
       "Alex         29       30       37       37\n",
       "Pier         34       39       33       36\n",
       "Bennet       34       35       36       40\n",
       "Luis         30       30       28       28"
      ]
     },
     "execution_count": 44,
     "metadata": {},
     "output_type": "execute_result"
    }
   ],
   "source": [
    "df.apply(myf)"
   ]
  },
  {
   "cell_type": "markdown",
   "metadata": {},
   "source": [
    "Or it works with a lambda:"
   ]
  },
  {
   "cell_type": "code",
   "execution_count": 45,
   "metadata": {},
   "outputs": [
    {
     "data": {
      "text/html": [
       "<div>\n",
       "<style scoped>\n",
       "    .dataframe tbody tr th:only-of-type {\n",
       "        vertical-align: middle;\n",
       "    }\n",
       "\n",
       "    .dataframe tbody tr th {\n",
       "        vertical-align: top;\n",
       "    }\n",
       "\n",
       "    .dataframe thead th {\n",
       "        text-align: right;\n",
       "    }\n",
       "</style>\n",
       "<table border=\"1\" class=\"dataframe\">\n",
       "  <thead>\n",
       "    <tr style=\"text-align: right;\">\n",
       "      <th></th>\n",
       "      <th>course1</th>\n",
       "      <th>course2</th>\n",
       "      <th>course3</th>\n",
       "      <th>course4</th>\n",
       "    </tr>\n",
       "    <tr>\n",
       "      <th>name</th>\n",
       "      <th></th>\n",
       "      <th></th>\n",
       "      <th></th>\n",
       "      <th></th>\n",
       "    </tr>\n",
       "  </thead>\n",
       "  <tbody>\n",
       "    <tr>\n",
       "      <th>Marie</th>\n",
       "      <td>576</td>\n",
       "      <td>324</td>\n",
       "      <td>900</td>\n",
       "      <td>400</td>\n",
       "    </tr>\n",
       "    <tr>\n",
       "      <th>John</th>\n",
       "      <td>324</td>\n",
       "      <td>729</td>\n",
       "      <td>841</td>\n",
       "      <td>729</td>\n",
       "    </tr>\n",
       "    <tr>\n",
       "      <th>Kati</th>\n",
       "      <td>441</td>\n",
       "      <td>576</td>\n",
       "      <td>784</td>\n",
       "      <td>729</td>\n",
       "    </tr>\n",
       "    <tr>\n",
       "      <th>Olaf</th>\n",
       "      <td>900</td>\n",
       "      <td>900</td>\n",
       "      <td>841</td>\n",
       "      <td>900</td>\n",
       "    </tr>\n",
       "    <tr>\n",
       "      <th>Mark</th>\n",
       "      <td>576</td>\n",
       "      <td>625</td>\n",
       "      <td>729</td>\n",
       "      <td>441</td>\n",
       "    </tr>\n",
       "    <tr>\n",
       "      <th>Olga</th>\n",
       "      <td>529</td>\n",
       "      <td>676</td>\n",
       "      <td>900</td>\n",
       "      <td>900</td>\n",
       "    </tr>\n",
       "    <tr>\n",
       "      <th>Jean</th>\n",
       "      <td>324</td>\n",
       "      <td>784</td>\n",
       "      <td>676</td>\n",
       "      <td>576</td>\n",
       "    </tr>\n",
       "    <tr>\n",
       "      <th>Alex</th>\n",
       "      <td>361</td>\n",
       "      <td>400</td>\n",
       "      <td>729</td>\n",
       "      <td>729</td>\n",
       "    </tr>\n",
       "    <tr>\n",
       "      <th>Pier</th>\n",
       "      <td>576</td>\n",
       "      <td>841</td>\n",
       "      <td>529</td>\n",
       "      <td>676</td>\n",
       "    </tr>\n",
       "    <tr>\n",
       "      <th>Bennet</th>\n",
       "      <td>576</td>\n",
       "      <td>625</td>\n",
       "      <td>676</td>\n",
       "      <td>900</td>\n",
       "    </tr>\n",
       "    <tr>\n",
       "      <th>Luis</th>\n",
       "      <td>400</td>\n",
       "      <td>400</td>\n",
       "      <td>324</td>\n",
       "      <td>324</td>\n",
       "    </tr>\n",
       "  </tbody>\n",
       "</table>\n",
       "</div>"
      ],
      "text/plain": [
       "        course1  course2  course3  course4\n",
       "name                                      \n",
       "Marie       576      324      900      400\n",
       "John        324      729      841      729\n",
       "Kati        441      576      784      729\n",
       "Olaf        900      900      841      900\n",
       "Mark        576      625      729      441\n",
       "Olga        529      676      900      900\n",
       "Jean        324      784      676      576\n",
       "Alex        361      400      729      729\n",
       "Pier        576      841      529      676\n",
       "Bennet      576      625      676      900\n",
       "Luis        400      400      324      324"
      ]
     },
     "execution_count": 45,
     "metadata": {},
     "output_type": "execute_result"
    }
   ],
   "source": [
    "df.apply(lambda x: x*x)"
   ]
  },
  {
   "cell_type": "markdown",
   "metadata": {},
   "source": [
    "Just for one column:"
   ]
  },
  {
   "cell_type": "code",
   "execution_count": 46,
   "metadata": {},
   "outputs": [
    {
     "data": {
      "text/plain": [
       "name\n",
       "Marie     576\n",
       "John      324\n",
       "Kati      441\n",
       "Olaf      900\n",
       "Mark      576\n",
       "Olga      529\n",
       "Jean      324\n",
       "Alex      361\n",
       "Pier      576\n",
       "Bennet    576\n",
       "Luis      400\n",
       "Name: course1, dtype: int64"
      ]
     },
     "execution_count": 46,
     "metadata": {},
     "output_type": "execute_result"
    }
   ],
   "source": [
    "df[\"course1\"].apply(lambda x:x*x)"
   ]
  },
  {
   "cell_type": "markdown",
   "metadata": {},
   "source": [
    "How to apply to a row:"
   ]
  },
  {
   "cell_type": "code",
   "execution_count": 47,
   "metadata": {},
   "outputs": [
    {
     "data": {
      "text/plain": [
       "course1    576\n",
       "course2    625\n",
       "course3    676\n",
       "course4    900\n",
       "Name: Bennet, dtype: int64"
      ]
     },
     "execution_count": 47,
     "metadata": {},
     "output_type": "execute_result"
    }
   ],
   "source": [
    "df.loc[\"Bennet\"].apply(lambda x:x*x)"
   ]
  },
  {
   "cell_type": "code",
   "execution_count": 48,
   "metadata": {},
   "outputs": [
    {
     "name": "stdout",
     "output_type": "stream",
     "text": [
      "        course1  course2  course3  course4\n",
      "name                                      \n",
      "Marie        24       18       30       20\n",
      "John         18       27       29       27\n",
      "Kati         21       24       28       27\n",
      "Olaf         30       30       29       30\n",
      "Mark         24       25       27       21\n",
      "Olga         23       26       30       30\n",
      "Jean         18       28       26       24\n",
      "Alex         19       20       27       27\n",
      "Pier         24       29       23       26\n",
      "Bennet      576      625      676      900\n",
      "Luis         20       20       18       18\n"
     ]
    }
   ],
   "source": [
    "df.loc[\"Bennet\"]=df.loc[\"Bennet\"].apply(lambda x:x*x) #to actually change df\n",
    "print(df)"
   ]
  },
  {
   "cell_type": "markdown",
   "metadata": {},
   "source": [
    "### **What if we have just a txt file and not a proper csv?**"
   ]
  },
  {
   "cell_type": "code",
   "execution_count": 49,
   "metadata": {},
   "outputs": [
    {
     "name": "stdout",
     "output_type": "stream",
     "text": [
      "           0       1\n",
      "0     453320  606542\n",
      "1     520651  594591\n",
      "...      ...     ...\n",
      "4998  341057  341338\n",
      "4999  374464  284441\n",
      "\n",
      "[5000 rows x 2 columns]\n"
     ]
    },
    {
     "name": "stderr",
     "output_type": "stream",
     "text": [
      "/tmp/ipykernel_29182/2019098219.py:4: FutureWarning: The 'delim_whitespace' keyword in pd.read_csv is deprecated and will be removed in a future version. Use ``sep='\\s+'`` instead\n",
      "  df = pd.read_csv('data/s3.txt',delim_whitespace=True, header=None)\n"
     ]
    }
   ],
   "source": [
    "pd.options.display.max_rows = 5\n",
    "pd.options.display.max_columns = 5\n",
    "#just say that the delimter is a space and that there is no header\n",
    "df = pd.read_csv('data/s3.txt',delim_whitespace=True, header=None) \n",
    "print(df)"
   ]
  },
  {
   "cell_type": "code",
   "execution_count": 50,
   "metadata": {},
   "outputs": [
    {
     "data": {
      "text/plain": [
       "(-12770.850000000006, 987807.85, 26137.049999999996, 991187.95)"
      ]
     },
     "execution_count": 50,
     "metadata": {},
     "output_type": "execute_result"
    },
    {
     "data": {
      "image/png": "[encoded data removed]",
      "text/plain": [
       "<Figure size 640x480 with 1 Axes>"
      ]
     },
     "metadata": {},
     "output_type": "display_data"
    }
   ],
   "source": [
    "plt.plot(df[0], df[1], \"ob\",  markersize=0.5)\n",
    "plt.axis('off')"
   ]
  },
  {
   "cell_type": "markdown",
   "metadata": {},
   "source": [
    "### **What if I don't want to use pandas, but still have to read data from a file?**"
   ]
  },
  {
   "cell_type": "markdown",
   "metadata": {},
   "source": [
    "You can use numpy"
   ]
  },
  {
   "cell_type": "code",
   "execution_count": 51,
   "metadata": {},
   "outputs": [],
   "source": [
    "#specify int or it's going to assume floats\n",
    "my_data=np.genfromtxt('data/s3.txt',dtype=int)"
   ]
  },
  {
   "cell_type": "code",
   "execution_count": 52,
   "metadata": {},
   "outputs": [
    {
     "name": "stdout",
     "output_type": "stream",
     "text": [
      "[[453320 606542]\n",
      " [520651 594591]\n",
      " [516664 660290]\n",
      " ...\n",
      " [351482 334662]\n",
      " [341057 341338]\n",
      " [374464 284441]]\n"
     ]
    }
   ],
   "source": [
    "print(my_data)"
   ]
  },
  {
   "cell_type": "code",
   "execution_count": 53,
   "metadata": {},
   "outputs": [],
   "source": [
    "#format %d is here to print as integers (\"decimals\")\n",
    "np.savetxt(\"saved_test.txt\",my_data,fmt='%d')"
   ]
  },
  {
   "cell_type": "code",
   "execution_count": 54,
   "metadata": {},
   "outputs": [],
   "source": [
    "my_grades=np.genfromtxt('data/example.csv',delimiter=',',skip_header=1)\n",
    "#yes, there are ways to skip columns as well, but they become ugly, might as well use pandas"
   ]
  },
  {
   "cell_type": "code",
   "execution_count": 55,
   "metadata": {},
   "outputs": [
    {
     "name": "stdout",
     "output_type": "stream",
     "text": [
      "[[nan 24. 18. 30. 20.]\n",
      " [nan 18. 27. 29. 27.]\n",
      " [nan 21. 24. 28. 27.]\n",
      " [nan 30. 30. 29. 30.]\n",
      " [nan 24. 25. 27. 21.]\n",
      " [nan 23. 26. 30. 30.]\n",
      " [nan 18. 28. 26. 24.]\n",
      " [nan 19. 20. 27. 27.]\n",
      " [nan 24. 29. 23. 26.]\n",
      " [nan 24. 25. 26. 30.]\n",
      " [nan 20. 20. 18. 18.]]\n"
     ]
    }
   ],
   "source": [
    "print(my_grades)"
   ]
  },
  {
   "cell_type": "markdown",
   "metadata": {},
   "source": [
    "Can you read and write files in \"pure python\" without numpy and pandas? Yes, but it becomes as comppilcated as in C/Fortran, so most times you have no reason to do that, that's why we are not considering that."
   ]
  }
 ],
 "metadata": {
  "kernelspec": {
   "display_name": "Python [conda env:env_2024] *",
   "language": "python",
   "name": "conda-env-env_2024-py"
  },
  "language_info": {
   "codemirror_mode": {
    "name": "ipython",
    "version": 3
   },
   "file_extension": ".py",
   "mimetype": "text/x-python",
   "name": "python",
   "nbconvert_exporter": "python",
   "pygments_lexer": "ipython3",
   "version": "3.12.4"
  }
 },
 "nbformat": 4,
 "nbformat_minor": 4
}
