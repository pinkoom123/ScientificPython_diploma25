{
 "cells": [
  {
   "cell_type": "markdown",
   "id": "bdb5d4a2-1fa3-4b13-9ab3-4e9c6fe9ba7a",
   "metadata": {},
   "source": [
    "#### **Exercise 1:**\n",
    "Give students in the `example.csv` file a bonus of 5 for all the courses. Find a way to replace all the values that are now greater than 30 by 30. Save the new data to a file. Make a plot with histograms for every course in the example file."
   ]
  },
  {
   "cell_type": "markdown",
   "id": "e18f100c-31cb-4d60-9f85-e7d82812d520",
   "metadata": {
    "jp-MarkdownHeadingCollapsed": true
   },
   "source": [
    "#### **Exercise 2:**\n",
    "\n",
    " - Read in the `cars.csv` file as a dataframe\n",
    " - Remove the row with the index 3, which contains a quote in the Model column.\n",
    " - Add a new column called Price with the following values: [8000, 6500, 7000, 6800, 7500, 7300, 7000, 9000, 6500, 7800]\n",
    " - Find the average Length of all the vehicles.\n",
    " - Find the median Price of all the vehicles.\n",
    " - Create a new dataframe that only contains the rows where the Price is greater than 7000.\n",
    " - Sort the dataframe in descending order by the Price column.\n"
   ]
  },
  {
   "cell_type": "markdown",
   "id": "e2238019-6281-43e0-aaa6-805a30956733",
   "metadata": {},
   "source": [
    "#### **Exercise 3:**\n",
    " - create a random matrix with numpy\n",
    " - save it to file\n",
    " - read it back with numpy\n",
    " - calculate some statistcs on it with numpy \n",
    " - read the same file with pandas\n",
    " - calculate the same statistics on it with pandas"
   ]
  },
  {
   "cell_type": "code",
   "execution_count": null,
   "id": "27dc3f85-7e2f-48ba-9ff1-693a9244cead",
   "metadata": {},
   "outputs": [],
   "source": []
  }
 ],
 "metadata": {
  "kernelspec": {
   "display_name": "Python [conda env:env_2024] *",
   "language": "python",
   "name": "conda-env-env_2024-py"
  },
  "language_info": {
   "codemirror_mode": {
    "name": "ipython",
    "version": 3
   },
   "file_extension": ".py",
   "mimetype": "text/x-python",
   "name": "python",
   "nbconvert_exporter": "python",
   "pygments_lexer": "ipython3",
   "version": "3.12.4"
  }
 },
 "nbformat": 4,
 "nbformat_minor": 5
}
