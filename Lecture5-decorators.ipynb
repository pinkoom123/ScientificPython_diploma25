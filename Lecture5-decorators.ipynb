{
 "cells": [
  {
   "cell_type": "markdown",
   "metadata": {},
   "source": [
    "### **Decorators**"
   ]
  },
  {
   "cell_type": "markdown",
   "metadata": {},
   "source": [
    "Decorators are functions used to modify other functions, that is allowing the user to add new functionality to an existing object without modifying its structure. \n",
    "\n",
    "Let's start from an example of function that has another function as an argument:"
   ]
  },
  {
   "cell_type": "code",
   "execution_count": 1,
   "metadata": {},
   "outputs": [
    {
     "name": "stdout",
     "output_type": "stream",
     "text": [
      "-21\n"
     ]
    }
   ],
   "source": [
    "def change_sign(f,x):\n",
    "    return -f(x)\n",
    "\n",
    "def my_f(x):\n",
    "    return 7*x\n",
    "\n",
    "x=3\n",
    "print(change_sign(my_f,x))"
   ]
  },
  {
   "cell_type": "markdown",
   "metadata": {},
   "source": [
    "What if the we have more than one argument?"
   ]
  },
  {
   "cell_type": "code",
   "execution_count": 2,
   "metadata": {},
   "outputs": [
    {
     "name": "stdout",
     "output_type": "stream",
     "text": [
      "-21\n",
      "-12\n"
     ]
    }
   ],
   "source": [
    "def change_sign(f,*args, **kwargs): #kwargs stands for keyword arguments\n",
    "    return -f(*args, **kwargs)\n",
    "\n",
    "def product(x,y):\n",
    "    return x*y\n",
    "\n",
    "y=4\n",
    "\n",
    "print(change_sign(my_f,x))\n",
    "print(change_sign(product,x,y))"
   ]
  },
  {
   "cell_type": "markdown",
   "metadata": {},
   "source": [
    "This is a bit ugly though. Let's make the `change_sign` function return a function rather than the output. To do this, we need to create another, wrapping function inside `change_sign`."
   ]
  },
  {
   "cell_type": "code",
   "execution_count": 3,
   "metadata": {
    "scrolled": true
   },
   "outputs": [
    {
     "name": "stdout",
     "output_type": "stream",
     "text": [
      "-21\n"
     ]
    }
   ],
   "source": [
    "def change_sign(f):\n",
    "    def wrapper(*args, **kwargs):\n",
    "        return -f(*args, **kwargs)\n",
    "    return wrapper\n",
    "\n",
    "minus_my_f = change_sign(my_f)\n",
    "\n",
    "print(minus_my_f(x))\n"
   ]
  },
  {
   "cell_type": "markdown",
   "metadata": {},
   "source": [
    "Now we have a function that will modify any function to output the opposite sign value. However, we probably woudln't want to have to redefine all the functions we might need to use the change sign on. That's where decorator syntax comes in:"
   ]
  },
  {
   "cell_type": "code",
   "execution_count": 5,
   "metadata": {},
   "outputs": [
    {
     "name": "stdout",
     "output_type": "stream",
     "text": [
      "-21\n",
      "-12\n"
     ]
    }
   ],
   "source": [
    "def change_sign(func):\n",
    "    def wrapper(*args, **kwargs):\n",
    "        return -func(*args, **kwargs)\n",
    "    return wrapper\n",
    "\n",
    "@change_sign\n",
    "def my_f(x):\n",
    "    return 7*x\n",
    "\n",
    "@change_sign\n",
    "def product(x,y):\n",
    "    return x*y\n",
    "\n",
    "print(my_f(x))\n",
    "print(product(x,y))\n"
   ]
  },
  {
   "cell_type": "markdown",
   "metadata": {},
   "source": [
    "The only problem we have now concerns the help:"
   ]
  },
  {
   "cell_type": "code",
   "execution_count": 6,
   "metadata": {},
   "outputs": [
    {
     "name": "stdout",
     "output_type": "stream",
     "text": [
      "Help on function wrapper in module __main__:\n",
      "\n",
      "wrapper(*args, **kwargs)\n",
      "\n",
      "Help on function wrapper in module __main__:\n",
      "\n",
      "wrapper(*args, **kwargs)\n",
      "\n"
     ]
    }
   ],
   "source": [
    "help(my_f)\n",
    "help(product)"
   ]
  },
  {
   "cell_type": "markdown",
   "metadata": {},
   "source": [
    "We can fix this by using a decorator from the functools package"
   ]
  },
  {
   "cell_type": "code",
   "execution_count": 7,
   "metadata": {},
   "outputs": [
    {
     "name": "stdout",
     "output_type": "stream",
     "text": [
      "Help on function my_f in module __main__:\n",
      "\n",
      "my_f(x)\n",
      "    hjhjhj\n",
      "\n",
      "Help on function product in module __main__:\n",
      "\n",
      "product(x, y)\n",
      "\n"
     ]
    }
   ],
   "source": [
    "import functools\n",
    "\n",
    "def change_sign(func):\n",
    "    @functools.wraps(func)\n",
    "    def wrapper(*args, **kwargs):\n",
    "        return -func(*args, **kwargs)\n",
    "    return wrapper\n",
    "\n",
    "@change_sign\n",
    "def my_f(x):\n",
    "    \"hjhjhj\"\n",
    "    return 7*x\n",
    "\n",
    "@change_sign\n",
    "def product(x,y):\n",
    "    return x*y\n",
    "\n",
    "help(my_f)\n",
    "help(product)\n"
   ]
  },
  {
   "cell_type": "markdown",
   "metadata": {},
   "source": [
    "Here is one very useful example of the use of the decorators:"
   ]
  },
  {
   "cell_type": "code",
   "execution_count": 8,
   "metadata": {},
   "outputs": [
    {
     "name": "stdout",
     "output_type": "stream",
     "text": [
      "Calling my_f with args: 2 and kwargs: \n",
      "Run function: my_f, which output: 14\n",
      "14\n"
     ]
    }
   ],
   "source": [
    "debug_flag = True\n",
    "\n",
    "def debug(func):\n",
    "    @functools.wraps(func)\n",
    "    def wrapper(*args, **kwargs):\n",
    "        if debug_flag:\n",
    "            arguments = [f\"{a}\" for a in args]\n",
    "            karguments = [f\"{k}={v}\" for k,v in kwargs.items()]\n",
    "            name = func.__name__\n",
    "            print(\"Calling \"+name+\" with args: \"+\", \".join(arguments)+\" and kwargs: \"+\", \".join(karguments))\n",
    "            value = func(*args, **kwargs)\n",
    "            print(\"Run function: \"+name+\", which output: \"+repr(value))\n",
    "            return value\n",
    "        else:\n",
    "            return func(*args, **kwargs)\n",
    "    return wrapper\n",
    "\n",
    "@debug\n",
    "def my_f(x):\n",
    "    return 7*x\n",
    "\n",
    "print(my_f(2))"
   ]
  },
  {
   "cell_type": "code",
   "execution_count": null,
   "metadata": {},
   "outputs": [],
   "source": []
  }
 ],
 "metadata": {
  "kernelspec": {
   "display_name": "Python 3 (ipykernel)",
   "language": "python",
   "name": "python3"
  },
  "language_info": {
   "codemirror_mode": {
    "name": "ipython",
    "version": 3
   },
   "file_extension": ".py",
   "mimetype": "text/x-python",
   "name": "python",
   "nbconvert_exporter": "python",
   "pygments_lexer": "ipython3",
   "version": "3.11.7"
  }
 },
 "nbformat": 4,
 "nbformat_minor": 4
}
