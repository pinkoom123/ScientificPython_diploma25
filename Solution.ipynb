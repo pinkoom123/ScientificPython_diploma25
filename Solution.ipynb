{
 "cells": [
  {
   "cell_type": "markdown",
   "id": "e4d3cd35-32b9-42fb-93ac-156d964af7eb",
   "metadata": {},
   "source": [
    "## Exercise 1"
   ]
  },
  {
   "cell_type": "code",
   "execution_count": 1,
   "id": "7f062e94-43ed-4d3f-99d4-43b29967f44e",
   "metadata": {},
   "outputs": [],
   "source": [
    "\n",
    "def solve_quadratic(a, b, c):\n",
    "    # Calculate the discriminant\n",
    "    discriminant = b**2 - 4*a*c\n",
    "    \n",
    "    if discriminant < 0:\n",
    "        print(\"No real solutions exist.\")\n",
    "    elif discriminant == 0:\n",
    "        # One real solution (roots are the same)\n",
    "        root = -b / (2 * a)\n",
    "        print(f\"There is one real solution: {root}\")\n",
    "    else:\n",
    "        # Two real solutions\n",
    "        root1 = (-b + discriminant**0.5) / (2 * a)\n",
    "        root2 = (-b - discriminant**0.5) / (2 * a)\n",
    "        print(f\"There are two real solutions: {root1} and {root2}\")"
   ]
  },
  {
   "cell_type": "code",
   "execution_count": 2,
   "id": "14df1847-93bb-4e1b-97d5-16734be03a52",
   "metadata": {},
   "outputs": [
    {
     "name": "stdout",
     "output_type": "stream",
     "text": [
      "There are two real solutions: 2.0 and 1.0\n",
      "There is one real solution: -1.0\n",
      "No real solutions exist.\n"
     ]
    }
   ],
   "source": [
    "solve_quadratic(1, -3, 2)  \n",
    "solve_quadratic(1, 2, 1) \n",
    "solve_quadratic(1, 0, 1)   \n"
   ]
  },
  {
   "cell_type": "markdown",
   "id": "8fb19081-2f83-4f08-b80e-f3c5a058efc3",
   "metadata": {},
   "source": [
    "## Exercise 2"
   ]
  },
  {
   "cell_type": "code",
   "execution_count": 50,
   "id": "3594ce57-966b-4df5-9137-4ae9d018a589",
   "metadata": {},
   "outputs": [],
   "source": [
    "def recaman_sequence(N):\n",
    "    sequence = [0]  # Start the sequence with 0, which is a_0\n",
    "    \n",
    "    for i in range(1, N):\n",
    "        next_val = sequence[-1] - i  # Calculate a_n = a_(n-1) - n\n",
    "        \n",
    "        if next_val > 0 and next_val not in sequence:\n",
    "            sequence.append(next_val)  # Use a_n = a_(n-1) - n if valid\n",
    "        else:\n",
    "            sequence.append(sequence[-1] + i)  # Otherwise, use a_n = a_(n-1) + n\n",
    "    \n",
    "    return sequence"
   ]
  },
  {
   "cell_type": "code",
   "execution_count": 67,
   "id": "20ab649e-cd9e-43b0-870c-4ef96199e6b8",
   "metadata": {},
   "outputs": [
    {
     "data": {
      "text/plain": [
       "[0,\n",
       " 1,\n",
       " 3,\n",
       " 6,\n",
       " 2,\n",
       " 7,\n",
       " 13,\n",
       " 20,\n",
       " 12,\n",
       " 21,\n",
       " 11,\n",
       " 22,\n",
       " 10,\n",
       " 23,\n",
       " 9,\n",
       " 24,\n",
       " 8,\n",
       " 25,\n",
       " 43,\n",
       " 62,\n",
       " 42,\n",
       " 63,\n",
       " 41,\n",
       " 18,\n",
       " 42,\n",
       " 17,\n",
       " 43,\n",
       " 16,\n",
       " 44,\n",
       " 15,\n",
       " 45,\n",
       " 14,\n",
       " 46,\n",
       " 79,\n",
       " 113,\n",
       " 78,\n",
       " 114,\n",
       " 77,\n",
       " 39,\n",
       " 78,\n",
       " 38,\n",
       " 79,\n",
       " 37,\n",
       " 80,\n",
       " 36,\n",
       " 81,\n",
       " 35,\n",
       " 82,\n",
       " 34,\n",
       " 83]"
      ]
     },
     "execution_count": 67,
     "metadata": {},
     "output_type": "execute_result"
    }
   ],
   "source": [
    "N = 50\n",
    "recaman_sequence(N)"
   ]
  },
  {
   "cell_type": "markdown",
   "id": "dba14008-0f75-4ead-a5b3-46d4d05b24ce",
   "metadata": {},
   "source": [
    "## Exercise 3"
   ]
  },
  {
   "cell_type": "code",
   "execution_count": 3,
   "id": "c0a4b27b-9164-4209-a29c-4293b18247c1",
   "metadata": {},
   "outputs": [],
   "source": [
    "mylist=[1,-99,89,0,234,77,-748,11]"
   ]
  },
  {
   "cell_type": "code",
   "execution_count": 42,
   "id": "887bd6bb-bf4d-4410-8ab6-2930c065f99e",
   "metadata": {},
   "outputs": [
    {
     "data": {
      "text/plain": [
       "[234, 89, 77, 11, 1, 0, -99, -748]"
      ]
     },
     "execution_count": 42,
     "metadata": {},
     "output_type": "execute_result"
    }
   ],
   "source": [
    "mylist.sort()\n",
    "mylist[::-1]\n",
    "   # or \n",
    "#sorted_list = sorted(mylist, reverse=True)\n",
    "#print(sorted_list)\n"
   ]
  },
  {
   "cell_type": "markdown",
   "id": "71fb6977-516f-4083-8838-36ccce9f1928",
   "metadata": {},
   "source": [
    "## Exercise 4"
   ]
  },
  {
   "cell_type": "code",
   "execution_count": 5,
   "id": "42a77963-3529-434b-b7c6-fbc112da60ae",
   "metadata": {},
   "outputs": [],
   "source": [
    "list1 = [1,3,5,7,9,11,13,15,17,19] # odd numbers\n",
    "list2 = [0,1,2,3,4,5,6,7,8,9,10] # Natural numbers"
   ]
  },
  {
   "cell_type": "code",
   "execution_count": 43,
   "id": "3ee2e224-9ae4-4422-8616-bf4c5043b5f8",
   "metadata": {},
   "outputs": [
    {
     "name": "stdout",
     "output_type": "stream",
     "text": [
      "[1, 3, 5, 7, 9]\n"
     ]
    }
   ],
   "source": [
    "final_list = [item for item in list1 if item in list2]\n",
    "print(final_list)"
   ]
  },
  {
   "cell_type": "markdown",
   "id": "6f5d6957-f0c5-41a4-b033-89734a9ddb6b",
   "metadata": {},
   "source": [
    "## Exercise 5"
   ]
  },
  {
   "cell_type": "code",
   "execution_count": 49,
   "id": "6a896bae-567d-4b38-994b-991558b3a742",
   "metadata": {},
   "outputs": [
    {
     "name": "stdout",
     "output_type": "stream",
     "text": [
      "[(1, 12), (2, 6), (3, 4)]\n",
      "[(1, 28), (2, 14), (4, 7)]\n"
     ]
    }
   ],
   "source": [
    "def factor_pairs(n):\n",
    "    return [(i, n // i) for i in range(1, int(n**0.5) + 1) if n % i == 0]\n",
    "print(factor_pairs(12))  \n",
    "print(factor_pairs(28))  \n"
   ]
  },
  {
   "cell_type": "markdown",
   "id": "398dd867-ceb6-4f1f-a814-0ce518f7831d",
   "metadata": {},
   "source": [
    "## Exercise 6"
   ]
  },
  {
   "cell_type": "code",
   "execution_count": 16,
   "id": "517e158e-6abd-4958-8dc9-8a5364754861",
   "metadata": {},
   "outputs": [
    {
     "name": "stdout",
     "output_type": "stream",
     "text": [
      "19 ns ± 0.147 ns per loop (mean ± std. dev. of 7 runs, 10,000,000 loops each)\n"
     ]
    }
   ],
   "source": [
    "# timing them\n",
    "\n",
    "# Naive_way\n",
    "divisible_3 =[]\n",
    "for i in range(1000):\n",
    "    if i % 3 ==0:\n",
    "        divisible_3.append(i)\n",
    "%timeit  divisible_3   \n",
    "     "
   ]
  },
  {
   "cell_type": "code",
   "execution_count": 25,
   "id": "3f195d54-98b5-4cf1-b235-f0763bc5c093",
   "metadata": {},
   "outputs": [
    {
     "name": "stdout",
     "output_type": "stream",
     "text": [
      "17.9 ns ± 2.74 ns per loop (mean ± std. dev. of 7 runs, 10,000,000 loops each)\n"
     ]
    }
   ],
   "source": [
    "# Comprehension list\n",
    "div_comprehension = [x for x in range(1000) if x%3==0]\n",
    "%timeit div_comprehension\n"
   ]
  },
  {
   "cell_type": "code",
   "execution_count": 15,
   "id": "cf783aab-5af1-469a-8046-a2b187595f1f",
   "metadata": {},
   "outputs": [
    {
     "name": "stdout",
     "output_type": "stream",
     "text": [
      "18.7 ns ± 2.57 ns per loop (mean ± std. dev. of 7 runs, 10,000,000 loops each)\n"
     ]
    }
   ],
   "source": [
    "# Slicing an existing list\n",
    "numbers = list(range(1000))\n",
    "div_3_sliced = numbers[::3]\n",
    "%timeit div_3_sliced"
   ]
  },
  {
   "cell_type": "code",
   "execution_count": 28,
   "id": "be861ec0-1288-4cf6-8eb1-7468e3f278d4",
   "metadata": {},
   "outputs": [
    {
     "name": "stdout",
     "output_type": "stream",
     "text": [
      "18.8 ns ± 0.241 ns per loop (mean ± std. dev. of 7 runs, 10,000,000 loops each)\n"
     ]
    }
   ],
   "source": [
    "# range\n",
    "div_range =list(range(0,1000,3))\n",
    "%timeit div_range"
   ]
  },
  {
   "cell_type": "markdown",
   "id": "d6d2965b-bbb9-4384-afdf-6287731f4cce",
   "metadata": {},
   "source": [
    "## Exercise 7"
   ]
  },
  {
   "cell_type": "code",
   "execution_count": 58,
   "id": "8f432f6f-d353-478c-a19e-e80f08a897f6",
   "metadata": {
    "scrolled": true
   },
   "outputs": [],
   "source": [
    "def is_palindrome(string):\n",
    "    reverse = string[::-1]\n",
    "    # Check if the string is the same when reversed\n",
    "    if reverse == string:\n",
    "      print('Same')\n",
    "    else:\n",
    "        print('not same')\n",
    "\n"
   ]
  },
  {
   "cell_type": "code",
   "execution_count": 66,
   "id": "c2fc6d07-0d57-4e9a-b521-9baf8bc07de4",
   "metadata": {},
   "outputs": [
    {
     "name": "stdout",
     "output_type": "stream",
     "text": [
      "not same\n",
      "Same\n",
      "Same\n"
     ]
    }
   ],
   "source": [
    "\n",
    "is_palindrome(\"Race car\")  \n",
    "is_palindrome('RadaR')\n",
    "is_palindrome ('civic')\n"
   ]
  },
  {
   "cell_type": "markdown",
   "id": "0beda3ab-4026-43f8-82a6-678189000f59",
   "metadata": {},
   "source": [
    "## Exercise 8"
   ]
  },
  {
   "cell_type": "code",
   "execution_count": 48,
   "id": "c60b933c-478f-47db-b366-f969f780093a",
   "metadata": {},
   "outputs": [
    {
     "name": "stdout",
     "output_type": "stream",
     "text": [
      "Help on built-in function max in module builtins:\n",
      "\n",
      "max(...)\n",
      "    max(iterable, *[, default=obj, key=func]) -> value\n",
      "    max(arg1, arg2, *args, *[, key=func]) -> value\n",
      "\n",
      "    With a single iterable argument, return its biggest item. The\n",
      "    default keyword-only argument specifies an object to return if\n",
      "    the provided iterable is empty.\n",
      "    With two or more arguments, return the largest argument.\n",
      "\n"
     ]
    }
   ],
   "source": [
    "help(max)"
   ]
  },
  {
   "cell_type": "code",
   "execution_count": 30,
   "id": "f9195a6e-9df7-4f3b-99c4-87fbfd7421d9",
   "metadata": {},
   "outputs": [
    {
     "name": "stdout",
     "output_type": "stream",
     "text": [
      "('i', 4)\n"
     ]
    }
   ],
   "source": [
    "# a character with a maximum number of occurrences\n",
    "\n",
    "def max_occurrence_char(s):\n",
    "    if not s:  # If the string is empty, return None\n",
    "        return None\n",
    "\n",
    "    max_char = max(s, key=s.count)  # Find the character with the highest count\n",
    "    return (max_char, s.count(max_char))\n",
    "\n",
    "string = \"mississippi\"\n",
    "result = max_occurrence_char(string)\n",
    "print(result)\n"
   ]
  },
  {
   "cell_type": "code",
   "execution_count": 31,
   "id": "b3eeefbe-3eb1-424b-9c35-d387a15ac81a",
   "metadata": {},
   "outputs": [
    {
     "data": {
      "text/plain": [
       "('s', 4)"
      ]
     },
     "execution_count": 31,
     "metadata": {},
     "output_type": "execute_result"
    }
   ],
   "source": [
    "string = \"Assissination\"\n",
    "res = max_occurrence_char(string)\n",
    "res"
   ]
  },
  {
   "cell_type": "markdown",
   "id": "03decb87-a9eb-49a1-8074-d14441b9db8f",
   "metadata": {},
   "source": [
    "## Exercise 9"
   ]
  },
  {
   "cell_type": "code",
   "execution_count": 68,
   "id": "aeaca2dd-50bc-44c2-ace4-f537c0264eb6",
   "metadata": {},
   "outputs": [
    {
     "name": "stdout",
     "output_type": "stream",
     "text": [
      "[2, 3, 5, 7, 11, 13, 17, 19, 23, 29]\n"
     ]
    }
   ],
   "source": [
    "def sieve_of_eratosthenes(n):\n",
    "    # a list of boolean values from 2 to n, all set to True\n",
    "    A = [True] * (n + 1)  # True means the number is considered prime\n",
    "    A[0] = A[1] = False  # 0 and 1 are not prime numbers\n",
    "\n",
    "\n",
    "    for i in range(2, int(n**0.5) + 1):  \n",
    "        if A[i]:  # If i is still marked as prime\n",
    "            # Mark all multiples of i as not prime\n",
    "            for j in range(i * i, n + 1, i):  # Start from i^2\n",
    "                A[j] = False\n",
    "\n",
    "#     Collect all numbers that are still marked as prime\n",
    "    primes = [i for i in range(n + 1) if A[i]]\n",
    "\n",
    "    return primes\n",
    "\n",
    "print(sieve_of_eratosthenes(30)) "
   ]
  },
  {
   "cell_type": "code",
   "execution_count": null,
   "id": "303263fa-2d76-4d78-b091-255b603c31c5",
   "metadata": {},
   "outputs": [],
   "source": []
  }
 ],
 "metadata": {
  "kernelspec": {
   "display_name": "Python [conda env:my_python_env] *",
   "language": "python",
   "name": "conda-env-my_python_env-py"
  },
  "language_info": {
   "codemirror_mode": {
    "name": "ipython",
    "version": 3
   },
   "file_extension": ".py",
   "mimetype": "text/x-python",
   "name": "python",
   "nbconvert_exporter": "python",
   "pygments_lexer": "ipython3",
   "version": "3.12.8"
  }
 },
 "nbformat": 4,
 "nbformat_minor": 5
}
